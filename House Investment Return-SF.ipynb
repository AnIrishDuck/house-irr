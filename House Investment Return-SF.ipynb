{
 "cells": [
  {
   "cell_type": "markdown",
   "metadata": {},
   "source": [
    "## Starting Assumptions"
   ]
  },
  {
   "cell_type": "markdown",
   "metadata": {},
   "source": [
    "We're going to model the cost of one specific home, and compare it to an equivalent rent. [The house is here](http://www.zillow.com/homes/for_sale/fsba_lt/24704738_zpid/12m_days/42.274213,-83.749015,42.251822,-83.794935_rect/14_zm/0_mmm/). Pretty much everything on that page is all the reasons why I don't want to live in the Bay Area.\n",
    "\n",
    "Anyway, here's the rent estimates:"
   ]
  },
  {
   "cell_type": "code",
   "execution_count": 1,
   "metadata": {
    "collapsed": true
   },
   "outputs": [],
   "source": [
    "rent_per_month = 3995\n",
    "rent_increase_per_month = 100.0 / 12"
   ]
  },
  {
   "cell_type": "markdown",
   "metadata": {},
   "source": [
    "Zillow has also helpfully calculated the 30-year fixed mortgage terms:"
   ]
  },
  {
   "cell_type": "code",
   "execution_count": 2,
   "metadata": {
    "collapsed": true
   },
   "outputs": [],
   "source": [
    "price = 899000\n",
    "down = 179800\n",
    "apr = 0.03298\n",
    "term = 12 * 30\n",
    "yearly_taxes = 4908"
   ]
  },
  {
   "cell_type": "markdown",
   "metadata": {},
   "source": [
    "Holy hell. Let's get started.\n",
    "\n",
    "## MATH TIME\n",
    "\n",
    "First, the fundamental law of finance. Net present value of any sum of money:"
   ]
  },
  {
   "cell_type": "code",
   "execution_count": 3,
   "metadata": {
    "collapsed": true
   },
   "outputs": [],
   "source": [
    "def npv(future_value, discount_rate, t):\n",
    "    return future_value / (1 + discount_rate) ** t"
   ]
  },
  {
   "cell_type": "markdown",
   "metadata": {},
   "source": [
    "Calculating the net present value of all rental costs is fairly simple. Assume we're paying one month's rent as a deposit, and discount each month's rent:"
   ]
  },
  {
   "cell_type": "code",
   "execution_count": 4,
   "metadata": {
    "collapsed": true
   },
   "outputs": [],
   "source": [
    "def rent(months, r):\n",
    "    def cost_of_month(t):\n",
    "        return rent_per_month + (rent_increase_per_month * t)\n",
    "    deposit = rent_per_month\n",
    "    deposit_back = npv(deposit, r, months)\n",
    "    return -deposit + sum(-npv(cost_of_month(t), r, t) for t in xrange(0, months)) + deposit_back"
   ]
  },
  {
   "cell_type": "markdown",
   "metadata": {},
   "source": [
    "So, after 10 years, we will pay:"
   ]
  },
  {
   "cell_type": "code",
   "execution_count": 5,
   "metadata": {
    "collapsed": false
   },
   "outputs": [
    {
     "data": {
      "text/plain": [
       "-538900.0"
      ]
     },
     "execution_count": 5,
     "metadata": {},
     "output_type": "execute_result"
    }
   ],
   "source": [
    "rent(12 * 10, 0)"
   ]
  },
  {
   "cell_type": "markdown",
   "metadata": {},
   "source": [
    "Checks out.\n",
    "\n",
    "Calculating the cost of buying is obviously more involved. Let's start with some basic mortgage definitions:"
   ]
  },
  {
   "cell_type": "code",
   "execution_count": 6,
   "metadata": {
    "collapsed": false
   },
   "outputs": [],
   "source": [
    "class Mortgage:\n",
    "    def __init__(self, down, total, payments, rate):\n",
    "        self.down, self.total, self.payments, self.rate = down, total, payments, rate\n",
    "        \n",
    "    def monthly_payment(self):\n",
    "        r = self.rate\n",
    "        P = self.total - self.down\n",
    "        N = self.payments\n",
    "        # From https://en.wikipedia.org/wiki/Mortgage_calculator#Monthly_payment_formula\n",
    "        return (r * P)  / (1 - (1 + r) ** -N)\n",
    "        \n",
    "    def remaining(self, t):\n",
    "        balance = self.total - self.down\n",
    "        for _ in xrange(0, t):\n",
    "            interest = balance * self.rate\n",
    "            balance -= (self.monthly_payment() - interest)\n",
    "        return max(0, balance)"
   ]
  },
  {
   "cell_type": "markdown",
   "metadata": {},
   "source": [
    "And plug in the terms Zillow gave us:"
   ]
  },
  {
   "cell_type": "code",
   "execution_count": 7,
   "metadata": {
    "collapsed": false
   },
   "outputs": [],
   "source": [
    "mortgage = Mortgage(down, price, term, apr / 12)"
   ]
  },
  {
   "cell_type": "markdown",
   "metadata": {},
   "source": [
    "Now let's do some basic sanity checking:"
   ]
  },
  {
   "cell_type": "code",
   "execution_count": 8,
   "metadata": {
    "collapsed": false
   },
   "outputs": [
    {
     "data": {
      "text/plain": [
       "3148.981815478768"
      ]
     },
     "execution_count": 8,
     "metadata": {},
     "output_type": "execute_result"
    }
   ],
   "source": [
    "mortgage.monthly_payment()"
   ]
  },
  {
   "cell_type": "code",
   "execution_count": 9,
   "metadata": {
    "collapsed": false
   },
   "outputs": [
    {
     "data": {
      "text/plain": [
       "6.8953340814914554e-09"
      ]
     },
     "execution_count": 9,
     "metadata": {},
     "output_type": "execute_result"
    }
   ],
   "source": [
    "mortgage.remaining(12 * 30)"
   ]
  },
  {
   "cell_type": "code",
   "execution_count": 10,
   "metadata": {
    "collapsed": false
   },
   "outputs": [
    {
     "data": {
      "text/plain": [
       "719200"
      ]
     },
     "execution_count": 10,
     "metadata": {},
     "output_type": "execute_result"
    }
   ],
   "source": [
    "mortgage.remaining(0)"
   ]
  },
  {
   "cell_type": "markdown",
   "metadata": {},
   "source": [
    "All looking good.\n",
    "\n",
    "Now we can model the cost of buying. We need to pay:\n",
    "\n",
    "* money down for the mortgage\n",
    "* closing costs on purchase, including agent fees, inspection, etc\n",
    "* closing costs on sale\n",
    "* monthly maintenance, monthly mortgage\n",
    "* taxes (there are actually some important tax deductions you can claim against mortgage interest and PMI, but we're going to ignore those for simplicity)"
   ]
  },
  {
   "cell_type": "code",
   "execution_count": 11,
   "metadata": {
    "collapsed": false
   },
   "outputs": [],
   "source": [
    "def buy_in_general(mortgage, buy_closing_costs, sale_closing_costs, maintenance, taxes, months, appreciation, r):\n",
    "    cost_to_close = mortgage.down + (mortgage.total * buy_closing_costs)\n",
    "    \n",
    "    mortgage_cost = sum(npv(mortgage.monthly_payment(), r, t) for t in xrange(0, min(months, mortgage.payments)))\n",
    "    maintenance = sum(npv(maintenance * mortgage.total / 12, r, t) for t in xrange(0, months))\n",
    "    \n",
    "    taxes = sum(npv(taxes, r, year * 12) for year in xrange(months / 12))\n",
    "    \n",
    "    owed_bank = mortgage.remaining(months)\n",
    "    from_buyer = mortgage.total * appreciation\n",
    "    cash_at_sale = from_buyer - owed_bank - (from_buyer * sale_closing_costs)\n",
    "    \n",
    "    return -cost_to_close - mortgage_cost - maintenance - taxes + npv(cash_at_sale, r, months)"
   ]
  },
  {
   "cell_type": "markdown",
   "metadata": {},
   "source": [
    "Let's assume:\n",
    "\n",
    "* Closing costs are 1% on buying, and 6.5% on sale. Costs are dramatically higher on sale because the sale transaction is typically structured so that agent commissions are \"paid\" by the seller out of the price of the home.\n",
    "* Maintenance is 1% per year.\n",
    "* The home does not appreciate in value whatsoever during the term of the investment (which is arguably pessimistic)."
   ]
  },
  {
   "cell_type": "code",
   "execution_count": 12,
   "metadata": {
    "collapsed": true
   },
   "outputs": [],
   "source": [
    "def buy(months, r): \n",
    "    return buy_in_general(mortgage, 0.01, 0.065, 0.01, yearly_taxes, months, 1.0, r)"
   ]
  },
  {
   "cell_type": "markdown",
   "metadata": {},
   "source": [
    "Let's see how much this house will cost us, undiscounted, over several years:"
   ]
  },
  {
   "cell_type": "code",
   "execution_count": 13,
   "metadata": {
    "collapsed": false
   },
   "outputs": [
    {
     "data": {
      "text/plain": [
       "[-104827.5976196698,\n",
       " -141751.9497335152,\n",
       " -178182.04319200414,\n",
       " -214101.32867546898,\n",
       " -249492.7027414592,\n",
       " -284338.48927098454,\n",
       " -318620.4202935202,\n",
       " -352319.6161699728,\n",
       " -385416.5651121128,\n",
       " -417891.10201625]"
      ]
     },
     "execution_count": 13,
     "metadata": {},
     "output_type": "execute_result"
    }
   ],
   "source": [
    "[buy(y * 12, 0) for y in xrange(1, 11)]"
   ]
  },
  {
   "cell_type": "markdown",
   "metadata": {},
   "source": [
    "Let's compare that to renting:"
   ]
  },
  {
   "cell_type": "code",
   "execution_count": 14,
   "metadata": {
    "collapsed": false
   },
   "outputs": [
    {
     "data": {
      "text/plain": [
       "[-48490.0,\n",
       " -98180.0,\n",
       " -149070.0,\n",
       " -201160.0,\n",
       " -254450.0,\n",
       " -308940.0,\n",
       " -364630.0,\n",
       " -421520.0,\n",
       " -479610.0,\n",
       " -538900.0]"
      ]
     },
     "execution_count": 14,
     "metadata": {},
     "output_type": "execute_result"
    }
   ],
   "source": [
    "[rent(y * 12, 0) for y in xrange(1, 11)]"
   ]
  },
  {
   "cell_type": "markdown",
   "metadata": {},
   "source": [
    "So, renting becomes more expensive quickly, if we assume our money has no time value. That's not a good assumption, so let's delve a little deeper.\n",
    "\n",
    "## IRR\n",
    "\n",
    "IRR is a common concept when evaluating investments. The IRR essentially states the smallest time value your money needs to have for you to lose money on your investment. In other words, you want to know the rate that causes your discounted cash flow to become negative."
   ]
  },
  {
   "cell_type": "code",
   "execution_count": 15,
   "metadata": {
    "collapsed": false
   },
   "outputs": [],
   "source": [
    "def irr(dcf):\n",
    "    if dcf(0) < 0: return\n",
    "    for ix in xrange(1000):\n",
    "        r_t = float(ix) / 1000\n",
    "        if dcf(r_t) < 0:\n",
    "            return r_t"
   ]
  },
  {
   "cell_type": "markdown",
   "metadata": {},
   "source": [
    "Note that there are cases where there is **no** IRR. Your investment loses money, even assuming your upfront dollars are valued equally to later hypothetical dollars. It cannot grow your wealth.\n",
    "\n",
    "There will be many cases where this happens with our house investment.\n",
    "\n",
    "We can model this \"investment\" by subtracting the rent we're not paying from the other costs that we now must pay. Now, (drumroll please), let's look at the IRR for our hypothetical house, depending on how long we stay in it:"
   ]
  },
  {
   "cell_type": "code",
   "execution_count": 16,
   "metadata": {
    "collapsed": false,
    "scrolled": true
   },
   "outputs": [
    {
     "name": "stdout",
     "output_type": "stream",
     "text": [
      "1 None\n",
      "2 None\n",
      "3 None\n",
      "4 None\n",
      "5 0.006\n",
      "6 0.021\n",
      "7 0.031\n",
      "8 0.039\n",
      "9 0.046\n",
      "10 0.051\n",
      "11 0.054\n",
      "12 0.058\n",
      "13 0.06\n",
      "14 0.063\n",
      "15 0.065\n"
     ]
    }
   ],
   "source": [
    "for year in xrange(1, 16):\n",
    "    def dcf(r_i): return buy(12 * year, r_i / 12) - rent(12 * year, r_i / 12)\n",
    "    print year, irr(dcf)"
   ]
  },
  {
   "cell_type": "markdown",
   "metadata": {},
   "source": [
    "Yikes. We don't get above the [1.3%](http://www.bankrate.com/rates/interest-rates/treasury.aspx) current risk free rate for five years. And our return **never** rises above the [10%](http://www.investopedia.com/ask/answers/042415/what-average-annual-return-sp-500.asp) average annual returns for the S&P 500.\n",
    "\n",
    "## Bring on the Bears\n",
    "\n",
    "Of course, market conditions can change drastically and quickly. What does our investment look like in a super-pessimistic case, where our houses loses half its value?"
   ]
  },
  {
   "cell_type": "code",
   "execution_count": 17,
   "metadata": {
    "collapsed": true
   },
   "outputs": [],
   "source": [
    "def buy_ohno(months, r):\n",
    "    return buy_in_general(mortgage, 0.02, 0.065, 0.01, yearly_taxes, months, 0.5, r)"
   ]
  },
  {
   "cell_type": "code",
   "execution_count": 18,
   "metadata": {
    "collapsed": false
   },
   "outputs": [
    {
     "name": "stdout",
     "output_type": "stream",
     "text": [
      "1 None\n",
      "2 None\n",
      "3 None\n",
      "4 None\n",
      "5 None\n",
      "6 None\n",
      "7 None\n",
      "8 None\n",
      "9 None\n",
      "10 None\n",
      "11 None\n",
      "12 None\n",
      "13 None\n",
      "14 None\n",
      "15 None\n",
      "16 None\n",
      "17 None\n",
      "18 None\n",
      "19 0.006\n",
      "20 0.018\n"
     ]
    }
   ],
   "source": [
    "for year in xrange(1, 21):\n",
    "    def dcf(r_i): return buy_ohno(12 * year, r_i / 12) - rent(12 * year, r_i / 12)\n",
    "    print year, irr(dcf)"
   ]
  },
  {
   "cell_type": "markdown",
   "metadata": {},
   "source": [
    "Yikes, yikes, yikes.\n",
    "\n",
    "## The Long View\n",
    "\n",
    "If that's not masochistic enough, let's look at what house swapping in the Bay area might look like. Every time we sell our house, we'll buy another similar house somewhere else. We'll also plow all of our equity from before into the new mortgage.\n",
    "\n",
    "In other words, our **very** simplistic assumption is that we essentially have the same mortgage all along. We just need to pay both buying and selling closing costs each time we switch houses."
   ]
  },
  {
   "cell_type": "code",
   "execution_count": 19,
   "metadata": {
    "collapsed": false
   },
   "outputs": [
    {
     "name": "stdout",
     "output_type": "stream",
     "text": [
      "1 None\n",
      "2 0.013\n",
      "5 0.035\n",
      "10 0.05\n",
      "25 0.068\n",
      "50 0.078\n"
     ]
    }
   ],
   "source": [
    "for year in (1, 2, 5, 10, 25, 50):\n",
    "    swap_months = year * 12\n",
    "    total_months = 50 * 12\n",
    "    swaps = [m for m in xrange(swap_months, total_months, swap_months)]\n",
    "\n",
    "    def buy_and_appreciate(r): \n",
    "        return buy_in_general(mortgage, 0.01, 0.065, 0.01, yearly_taxes, total_months, 1.0, r)\n",
    "\n",
    "    def dcf_swapping_houses(r):\n",
    "        switching_costs = sum(npv(0.075 * mortgage.total, m, r / 12) for m in swaps)\n",
    "        return buy_and_appreciate(r / 12) - rent(total_months, r / 12) - switching_costs\n",
    "\n",
    "    print year, irr(dcf_swapping_houses)"
   ]
  },
  {
   "cell_type": "markdown",
   "metadata": {},
   "source": [
    "So it looks like we're never going to beat the market here. AFAICT, there's pretty much no upside to real estate in the Bay Area. Unless you got in early and cheap, I guess."
   ]
  }
 ],
 "metadata": {
  "kernelspec": {
   "display_name": "Python 2",
   "language": "python",
   "name": "python2"
  },
  "language_info": {
   "codemirror_mode": {
    "name": "ipython",
    "version": 2
   },
   "file_extension": ".py",
   "mimetype": "text/x-python",
   "name": "python",
   "nbconvert_exporter": "python",
   "pygments_lexer": "ipython2",
   "version": "2.7.10"
  }
 },
 "nbformat": 4,
 "nbformat_minor": 0
}
