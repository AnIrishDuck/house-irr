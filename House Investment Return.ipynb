{
 "cells": [
  {
   "cell_type": "markdown",
   "metadata": {},
   "source": [
    "## Starting Assumptions"
   ]
  },
  {
   "cell_type": "markdown",
   "metadata": {},
   "source": [
    "We're going to model the cost of one specific home, and compare it to an equivalent rent. [The house is here](http://www.zillow.com/homes/for_sale/fsba_lt/24704738_zpid/12m_days/42.274213,-83.749015,42.251822,-83.794935_rect/14_zm/0_mmm/). I live in this area, and represent that the asking price, Zillow rent estimate, and financing terms are all reasonable.\n",
    "\n",
    "So here's some rent estimates:"
   ]
  },
  {
   "cell_type": "code",
   "execution_count": 1,
   "metadata": {
    "collapsed": true
   },
   "outputs": [],
   "source": [
    "rent_per_month = 1650\n",
    "rent_increase_per_month = 50.0 / 12"
   ]
  },
  {
   "cell_type": "markdown",
   "metadata": {},
   "source": [
    "Zillow has also helpfully calculated the 30-year fixed mortgage terms:"
   ]
  },
  {
   "cell_type": "code",
   "execution_count": 2,
   "metadata": {
    "collapsed": true
   },
   "outputs": [],
   "source": [
    "price = 232000\n",
    "down = 46400\n",
    "apr = 0.03286\n",
    "term = 12 * 30\n",
    "yearly_taxes = 3317"
   ]
  },
  {
   "cell_type": "markdown",
   "metadata": {},
   "source": [
    "## MATH TIME"
   ]
  },
  {
   "cell_type": "markdown",
   "metadata": {},
   "source": [
    "First, the fundamental law of finance. Net present value of any sum of money:"
   ]
  },
  {
   "cell_type": "code",
   "execution_count": 3,
   "metadata": {
    "collapsed": true
   },
   "outputs": [],
   "source": [
    "def npv(future_value, discount_rate, t):\n",
    "    return future_value / (1 + discount_rate) ** t"
   ]
  },
  {
   "cell_type": "markdown",
   "metadata": {},
   "source": [
    "Calculating the net present value of all rental costs is fairly simple. Assume we're paying one month's rent as a deposit, and discount each month's rent:"
   ]
  },
  {
   "cell_type": "code",
   "execution_count": 4,
   "metadata": {
    "collapsed": true
   },
   "outputs": [],
   "source": [
    "def rent(months, r):\n",
    "    def cost_of_month(t):\n",
    "        return rent_per_month + (rent_increase_per_month * t)\n",
    "    deposit = rent_per_month\n",
    "    deposit_back = npv(deposit, r, months)\n",
    "    return -deposit + sum(-npv(cost_of_month(t), r, t) for t in xrange(0, months)) + deposit_back"
   ]
  },
  {
   "cell_type": "markdown",
   "metadata": {},
   "source": [
    "So, after 10 years, we will pay:"
   ]
  },
  {
   "cell_type": "code",
   "execution_count": 5,
   "metadata": {
    "collapsed": false
   },
   "outputs": [
    {
     "data": {
      "text/plain": [
       "-227750.0"
      ]
     },
     "execution_count": 5,
     "metadata": {},
     "output_type": "execute_result"
    }
   ],
   "source": [
    "rent(12 * 10, 0)"
   ]
  },
  {
   "cell_type": "markdown",
   "metadata": {},
   "source": [
    "Sounds about right.\n",
    "\n",
    "Calculating the cost of buying is obviously more involved. Let's start with some basic mortgage definitions:"
   ]
  },
  {
   "cell_type": "code",
   "execution_count": 6,
   "metadata": {
    "collapsed": false
   },
   "outputs": [],
   "source": [
    "class Mortgage:\n",
    "    def __init__(self, down, total, payments, rate):\n",
    "        self.down, self.total, self.payments, self.rate = down, total, payments, rate\n",
    "        \n",
    "    def monthly_payment(self):\n",
    "        r = self.rate\n",
    "        P = self.total - self.down\n",
    "        N = self.payments\n",
    "        # From https://en.wikipedia.org/wiki/Mortgage_calculator#Monthly_payment_formula\n",
    "        return (r * P)  / (1 - (1 + r) ** -N)\n",
    "        \n",
    "    def remaining(self, t):\n",
    "        balance = self.total - self.down\n",
    "        for _ in xrange(0, t):\n",
    "            interest = balance * self.rate\n",
    "            balance -= (self.monthly_payment() - interest)\n",
    "        return max(0, balance)"
   ]
  },
  {
   "cell_type": "markdown",
   "metadata": {},
   "source": [
    "And plug in the terms Zillow gave us:"
   ]
  },
  {
   "cell_type": "code",
   "execution_count": 7,
   "metadata": {
    "collapsed": false
   },
   "outputs": [],
   "source": [
    "mortgage = Mortgage(down, price, term, apr / 12)"
   ]
  },
  {
   "cell_type": "markdown",
   "metadata": {},
   "source": [
    "Now let's do some basic sanity checking:"
   ]
  },
  {
   "cell_type": "code",
   "execution_count": 8,
   "metadata": {
    "collapsed": false
   },
   "outputs": [
    {
     "data": {
      "text/plain": [
       "811.4145714967989"
      ]
     },
     "execution_count": 8,
     "metadata": {},
     "output_type": "execute_result"
    }
   ],
   "source": [
    "mortgage.monthly_payment()"
   ]
  },
  {
   "cell_type": "code",
   "execution_count": 9,
   "metadata": {
    "collapsed": false
   },
   "outputs": [
    {
     "data": {
      "text/plain": [
       "0"
      ]
     },
     "execution_count": 9,
     "metadata": {},
     "output_type": "execute_result"
    }
   ],
   "source": [
    "mortgage.remaining(12 * 30)"
   ]
  },
  {
   "cell_type": "code",
   "execution_count": 10,
   "metadata": {
    "collapsed": false
   },
   "outputs": [
    {
     "data": {
      "text/plain": [
       "185600"
      ]
     },
     "execution_count": 10,
     "metadata": {},
     "output_type": "execute_result"
    }
   ],
   "source": [
    "mortgage.remaining(0)"
   ]
  },
  {
   "cell_type": "markdown",
   "metadata": {},
   "source": [
    "All looking good.\n",
    "\n",
    "Now we can model the cost of buying. We need to pay:\n",
    "\n",
    "* money down for the mortgage\n",
    "* closing costs on purchase, including agent fees, inspection, etc\n",
    "* closing costs on sale\n",
    "* monthly maintenance, monthly mortgage\n",
    "* taxes (there are actually some important tax deductions you can claim against mortgage interest and PMI, but we're going to ignore those for simplicity)"
   ]
  },
  {
   "cell_type": "code",
   "execution_count": 11,
   "metadata": {
    "collapsed": false
   },
   "outputs": [],
   "source": [
    "def buy_in_general(mortgage, buy_closing_costs, sale_closing_costs, maintenance, taxes, months, appreciation, r):\n",
    "    cost_to_close = mortgage.down + (mortgage.total * buy_closing_costs)\n",
    "    \n",
    "    mortgage_cost = sum(npv(mortgage.monthly_payment(), r, t) for t in xrange(0, min(months, mortgage.payments)))\n",
    "    maintenance = sum(npv(maintenance * mortgage.total / 12, r, t) for t in xrange(0, months))\n",
    "    \n",
    "    taxes = sum(npv(taxes, r, year * 12) for year in xrange(months / 12))\n",
    "    \n",
    "    owed_bank = mortgage.remaining(months)\n",
    "    from_buyer = mortgage.total * appreciation\n",
    "    cash_at_sale = from_buyer - owed_bank - (from_buyer * sale_closing_costs)\n",
    "    \n",
    "    return -cost_to_close - mortgage_cost - maintenance - taxes + npv(cash_at_sale, r, months)"
   ]
  },
  {
   "cell_type": "markdown",
   "metadata": {},
   "source": [
    "Let's assume:\n",
    "\n",
    "* Closing costs are 1% on buying, and 6.5% on sale. Costs are dramatically higher on sale because the sale transaction is typically structured so that agent commissions are \"paid\" by the seller out of the price of the home.\n",
    "* Maintenance is 1% per year.\n",
    "* The home does not appreciate in value whatsoever during the term of the investment (which is arguably pessimistic)."
   ]
  },
  {
   "cell_type": "code",
   "execution_count": 12,
   "metadata": {
    "collapsed": true
   },
   "outputs": [],
   "source": [
    "def buy(months, r): \n",
    "    return buy_in_general(mortgage, 0.01, 0.065, 0.01, yearly_taxes, months, 1.0, r)"
   ]
  },
  {
   "cell_type": "markdown",
   "metadata": {},
   "source": [
    "Let's see how much this house will cost us, undiscounted, over several years:"
   ]
  },
  {
   "cell_type": "code",
   "execution_count": 13,
   "metadata": {
    "collapsed": false
   },
   "outputs": [
    {
     "data": {
      "text/plain": [
       "[-29080.519055983226,\n",
       " -40637.826478991454,\n",
       " -52067.81199742148,\n",
       " -63366.22822329373,\n",
       " -74528.68607812602,\n",
       " -85550.65006621709,\n",
       " -96427.43339024979,\n",
       " -107154.19290395285,\n",
       " -117725.92389638707,\n",
       " -128137.45470223753]"
      ]
     },
     "execution_count": 13,
     "metadata": {},
     "output_type": "execute_result"
    }
   ],
   "source": [
    "[buy(y * 12, 0) for y in xrange(1, 11)]"
   ]
  },
  {
   "cell_type": "markdown",
   "metadata": {},
   "source": [
    "Let's compare that to renting:"
   ]
  },
  {
   "cell_type": "code",
   "execution_count": 14,
   "metadata": {
    "collapsed": false
   },
   "outputs": [
    {
     "data": {
      "text/plain": [
       "[-20075.0,\n",
       " -40750.0,\n",
       " -62025.0,\n",
       " -83900.0,\n",
       " -106375.0,\n",
       " -129450.0,\n",
       " -153125.0,\n",
       " -177400.0,\n",
       " -202275.0,\n",
       " -227750.0]"
      ]
     },
     "execution_count": 14,
     "metadata": {},
     "output_type": "execute_result"
    }
   ],
   "source": [
    "[rent(y * 12, 0) for y in xrange(1, 11)]"
   ]
  },
  {
   "cell_type": "markdown",
   "metadata": {},
   "source": [
    "So, renting becomes more expensive quickly, if we assume our money has no time value. That's not a good assumption, so let's delve a little deeper.\n",
    "\n",
    "## IRR\n",
    "\n",
    "IRR is a common concept when evaluating investments. The IRR essentially states the smallest time value your money needs to have for you to lose money on your investment. In other words, you want to know the rate that causes your discounted cash flow to become negative."
   ]
  },
  {
   "cell_type": "code",
   "execution_count": 15,
   "metadata": {
    "collapsed": false
   },
   "outputs": [],
   "source": [
    "def irr(dcf):\n",
    "    if dcf(0) < 0: return\n",
    "    for ix in xrange(1000):\n",
    "        r_t = float(ix) / 1000\n",
    "        if dcf(r_t) < 0:\n",
    "            return r_t"
   ]
  },
  {
   "cell_type": "markdown",
   "metadata": {},
   "source": [
    "Note that there are cases where there is **no** IRR. Your investment loses money, even assuming your upfront dollars are valued equally to later hypothetical dollars. It cannot grow your wealth.\n",
    "\n",
    "There will be cases where this happens with our house investment.\n",
    "\n",
    "We can model this \"investment\" by subtracting the rent we're not paying from the other costs that we now must pay. Now, (drumroll please), let's look at the IRR for our hypothetical house, depending on how long we stay in it:"
   ]
  },
  {
   "cell_type": "code",
   "execution_count": 16,
   "metadata": {
    "collapsed": false,
    "scrolled": true
   },
   "outputs": [
    {
     "name": "stdout",
     "output_type": "stream",
     "text": [
      "1 None\n",
      "2 0.002\n",
      "3 0.073\n",
      "4 0.107\n",
      "5 0.127\n",
      "6 0.139\n",
      "7 0.147\n",
      "8 0.153\n",
      "9 0.157\n",
      "10 0.16\n",
      "11 0.163\n",
      "12 0.164\n",
      "13 0.166\n",
      "14 0.167\n",
      "15 0.167\n"
     ]
    }
   ],
   "source": [
    "for year in xrange(1, 16):\n",
    "    def dcf(r_i): return buy(12 * year, r_i / 12) - rent(12 * year, r_i / 12)\n",
    "    print year, irr(dcf)"
   ]
  },
  {
   "cell_type": "markdown",
   "metadata": {},
   "source": [
    "Not bad. We're well above the paltry [1.3%](http://www.bankrate.com/rates/interest-rates/treasury.aspx) current risk free rate in year three. In year five, our return rises above the [10%](http://www.investopedia.com/ask/answers/042415/what-average-annual-return-sp-500.asp) average annual returns for the S&P 500.\n",
    "\n",
    "There's obviously a couple caveats. First, all of this analysis is predicated on the house being a principle residence. There are many benefits, especially regarding capital gains, that flow from the government in this case. Investment properties are a whole 'nother ball of wax.\n",
    "\n",
    "Finally, let's keep in mind that this investment scenario has one big caveat: we disappear into thin air after we sell the house, and never spend money on housing again. We'll return to that assumption later.\n",
    "\n",
    "## Bring on the Bears\n",
    "\n",
    "Of course, market conditions can change drastically and quickly. What does our investment look like in a super-pessimistic case, where our house loses half its value?"
   ]
  },
  {
   "cell_type": "code",
   "execution_count": 17,
   "metadata": {
    "collapsed": true
   },
   "outputs": [],
   "source": [
    "def buy_ohno(months, r):\n",
    "    return buy_in_general(mortgage, 0.02, 0.065, 0.01, yearly_taxes, months, 0.5, r)"
   ]
  },
  {
   "cell_type": "code",
   "execution_count": 18,
   "metadata": {
    "collapsed": false
   },
   "outputs": [
    {
     "name": "stdout",
     "output_type": "stream",
     "text": [
      "1 None\n",
      "2 None\n",
      "3 None\n",
      "4 None\n",
      "5 None\n",
      "6 None\n",
      "7 None\n",
      "8 None\n",
      "9 None\n",
      "10 None\n",
      "11 0.024\n",
      "12 0.07\n",
      "13 0.096\n",
      "14 0.113\n",
      "15 0.125\n",
      "16 0.133\n",
      "17 0.14\n",
      "18 0.144\n",
      "19 0.148\n",
      "20 0.151\n"
     ]
    }
   ],
   "source": [
    "for year in xrange(1, 21):\n",
    "    def dcf(r_i): return buy_ohno(12 * year, r_i / 12) - rent(12 * year, r_i / 12)\n",
    "    print year, irr(dcf)"
   ]
  },
  {
   "cell_type": "markdown",
   "metadata": {},
   "source": [
    "Pretty grim, but still not a doomsday. We'll need to stay in the house for a long time to beat the market if we get caught in a bad market cycle.\n",
    "\n",
    "## The Long View\n",
    "\n",
    "We've established that the longer you stay in the house, the better off you are. Let's look at what happens after your mortgage is payed off, and if your house reliable appreciates to keep up with a 2% inflation rate over the years."
   ]
  },
  {
   "cell_type": "code",
   "execution_count": 19,
   "metadata": {
    "collapsed": false
   },
   "outputs": [
    {
     "name": "stdout",
     "output_type": "stream",
     "text": [
      "1 None\n",
      "6 0.187\n",
      "11 0.187\n",
      "16 0.181\n",
      "21 0.176\n",
      "26 0.173\n"
     ]
    }
   ],
   "source": [
    "for year in xrange(1, 31, 5):\n",
    "    def buy_and_appreciate(months, r): \n",
    "        return buy_in_general(mortgage, 0.01, 0.065, 0.01, yearly_taxes, months, 1.02 ** year, r)\n",
    "    def dcf(r_i): return buy_and_appreciate(12 * year, r_i / 12) - rent(12 * year, r_i / 12)\n",
    "    print year, irr(dcf)"
   ]
  },
  {
   "cell_type": "markdown",
   "metadata": {},
   "source": [
    "What? Our rate of return gets **worse** the longer we wait to sell?\n",
    "\n",
    "What's happening here is we're forgetting that we actually have to live somewhere if we don't own a house. Let's do a more realistic comparison: whenever we sell our house, we'll buy another similar house somewhere else. We'll also plow all of our equity from before into the new mortgage.\n",
    "\n",
    "In other words, our **very** simplistic assumption is that we essentially have the same mortgage all along. We just need to pay both buying and selling closing costs each time we switch houses."
   ]
  },
  {
   "cell_type": "code",
   "execution_count": 20,
   "metadata": {
    "collapsed": false
   },
   "outputs": [
    {
     "name": "stdout",
     "output_type": "stream",
     "text": [
      "1 0.013\n",
      "2 0.035\n",
      "5 0.067\n",
      "10 0.097\n",
      "25 0.139\n",
      "50 0.169\n"
     ]
    }
   ],
   "source": [
    "for year in (1, 2, 5, 10, 25, 50):\n",
    "    swap_months = year * 12\n",
    "    total_months = 50 * 12\n",
    "    swaps = [m for m in xrange(swap_months, total_months, swap_months)]\n",
    "\n",
    "    def buy_and_appreciate(r): \n",
    "        return buy_in_general(mortgage, 0.01, 0.065, 0.01, yearly_taxes, total_months, 1.0, r)\n",
    "\n",
    "    def dcf_swapping_houses(r):\n",
    "        switching_costs = sum(npv(0.075 * mortgage.total, m, r / 12) for m in swaps)\n",
    "        return buy_and_appreciate(r / 12) - rent(total_months, r / 12) - switching_costs\n",
    "\n",
    "    print year, irr(dcf_swapping_houses)"
   ]
  },
  {
   "cell_type": "markdown",
   "metadata": {},
   "source": [
    "So it looks like we should plan on switching houses every 10+ years if we want to beat the market. If we're planning on staying put for a very long time, a house looks like a fantastic investment.\n",
    "\n",
    "Another thing to keep in mind: with this time horizon, the price of the house itself is practically inconsequential. Here's the present value of the cash we'll get on sale, discounted at 10% per year:"
   ]
  },
  {
   "cell_type": "code",
   "execution_count": 21,
   "metadata": {
    "collapsed": false
   },
   "outputs": [
    {
     "data": {
      "text/plain": [
       "1595.9284749821113"
      ]
     },
     "execution_count": 21,
     "metadata": {},
     "output_type": "execute_result"
    }
   ],
   "source": [
    "npv(mortgage.total, 0.1 / 12, 50 * 12)"
   ]
  },
  {
   "cell_type": "markdown",
   "metadata": {},
   "source": [
    "This is a tiny fraction of the total NPV of our housing costs:"
   ]
  },
  {
   "cell_type": "code",
   "execution_count": 22,
   "metadata": {
    "collapsed": false
   },
   "outputs": [
    {
     "data": {
      "text/plain": [
       "-198445.4001645193"
      ]
     },
     "execution_count": 22,
     "metadata": {},
     "output_type": "execute_result"
    }
   ],
   "source": [
    "buy(50 * 12, 0.1 / 12)"
   ]
  },
  {
   "cell_type": "markdown",
   "metadata": {},
   "source": [
    "## TL;DR\n",
    "\n",
    "So is housing a shitty investment? It certainly can be, especially if you change houses every year. But if you're in a specific location for the long haul, investment in housing for your principle residence will probably beat market returns. Just plan to stay in it for a long time.\n",
    "\n",
    "Another final note: the current lending environment is **very** favorable towards buying a house. Interest rates are at all time lows. All the analysis here will certainly need to change in a future lending environment."
   ]
  }
 ],
 "metadata": {
  "kernelspec": {
   "display_name": "Python 2",
   "language": "python",
   "name": "python2"
  },
  "language_info": {
   "codemirror_mode": {
    "name": "ipython",
    "version": 2
   },
   "file_extension": ".py",
   "mimetype": "text/x-python",
   "name": "python",
   "nbconvert_exporter": "python",
   "pygments_lexer": "ipython2",
   "version": "2.7.10"
  }
 },
 "nbformat": 4,
 "nbformat_minor": 0
}
