{
 "cells": [
  {
   "cell_type": "markdown",
   "metadata": {},
   "source": [
    "## Starting Assumptions"
   ]
  },
  {
   "cell_type": "markdown",
   "metadata": {},
   "source": [
    "We're going to model the cost of one specific home, and compare it to an equivalent rent. [The house is here](http://www.zillow.com/homes/for_sale/fsba_lt/24704738_zpid/12m_days/42.274213,-83.749015,42.251822,-83.794935_rect/14_zm/0_mmm/). I live in this area, and represent that the asking price, Zillow rent estimate, and financing terms are all reasonable.\n",
    "\n",
    "So here's some rent estimates:"
   ]
  },
  {
   "cell_type": "code",
   "execution_count": 1,
   "metadata": {
    "collapsed": true
   },
   "outputs": [],
   "source": [
    "rent_per_month = 1695\n",
    "rent_increase_per_month = 50.0 / 12"
   ]
  },
  {
   "cell_type": "markdown",
   "metadata": {},
   "source": [
    "Zillow has also helpfully calculated the 30-year fixed mortgage terms:"
   ]
  },
  {
   "cell_type": "code",
   "execution_count": 2,
   "metadata": {
    "collapsed": true
   },
   "outputs": [],
   "source": [
    "price = 216000\n",
    "down = price * 0.20\n",
    "apr = 0.03411\n",
    "term = 12 * 30\n",
    "yearly_taxes = 3317"
   ]
  },
  {
   "cell_type": "markdown",
   "metadata": {},
   "source": [
    "## MATH TIME"
   ]
  },
  {
   "cell_type": "markdown",
   "metadata": {},
   "source": [
    "First, the fundamental law of finance. Net present value of any sum of money:"
   ]
  },
  {
   "cell_type": "code",
   "execution_count": 3,
   "metadata": {
    "collapsed": true
   },
   "outputs": [],
   "source": [
    "def npv(future_value, discount_rate, t):\n",
    "    return future_value / (1 + discount_rate) ** t"
   ]
  },
  {
   "cell_type": "markdown",
   "metadata": {},
   "source": [
    "Calculating the net present value of all rental costs is fairly simple. Assume we're paying one month's rent as a deposit, and discount each month's rent:"
   ]
  },
  {
   "cell_type": "code",
   "execution_count": 4,
   "metadata": {
    "collapsed": true
   },
   "outputs": [],
   "source": [
    "def rent(r, months):\n",
    "    def cost_of_month(t):\n",
    "        return rent_per_month + (rent_increase_per_month * t)\n",
    "    deposit = rent_per_month\n",
    "    deposit_back = npv(deposit, r, months)\n",
    "    return -deposit + sum(-npv(cost_of_month(t), r, t) for t in xrange(0, months)) + deposit_back"
   ]
  },
  {
   "cell_type": "markdown",
   "metadata": {},
   "source": [
    "So, after 10 years, we will pay:"
   ]
  },
  {
   "cell_type": "code",
   "execution_count": 5,
   "metadata": {
    "collapsed": false
   },
   "outputs": [
    {
     "data": {
      "text/plain": [
       "-233150.0"
      ]
     },
     "execution_count": 5,
     "metadata": {},
     "output_type": "execute_result"
    }
   ],
   "source": [
    "rent(0, 12 * 10)"
   ]
  },
  {
   "cell_type": "markdown",
   "metadata": {},
   "source": [
    "Sounds about right.\n",
    "\n",
    "Calculating the cost of buying is obviously more involved. Let's start with some basic mortgage definitions:"
   ]
  },
  {
   "cell_type": "code",
   "execution_count": 6,
   "metadata": {
    "collapsed": false
   },
   "outputs": [],
   "source": [
    "class Mortgage:\n",
    "    def __init__(self, down, total, payments, rate):\n",
    "        self.down, self.total, self.payments, self.rate = down, total, payments, rate\n",
    "        \n",
    "    def monthly_payment(self):\n",
    "        r = self.rate\n",
    "        P = self.total - self.down\n",
    "        N = self.payments\n",
    "        # From https://en.wikipedia.org/wiki/Mortgage_calculator#Monthly_payment_formula\n",
    "        return (r * P)  / (1 - (1 + r) ** -N)\n",
    "        \n",
    "    def remaining(self, t):\n",
    "        balance = self.total - self.down\n",
    "        for _ in xrange(0, t):\n",
    "            interest = balance * self.rate\n",
    "            balance -= (self.monthly_payment() - interest)\n",
    "        return max(0, balance)"
   ]
  },
  {
   "cell_type": "markdown",
   "metadata": {},
   "source": [
    "And plug in the terms Zillow gave us:"
   ]
  },
  {
   "cell_type": "code",
   "execution_count": 7,
   "metadata": {
    "collapsed": false
   },
   "outputs": [],
   "source": [
    "mortgage = Mortgage(down, price, term, apr / 12)"
   ]
  },
  {
   "cell_type": "markdown",
   "metadata": {},
   "source": [
    "Now let's do some basic sanity checking:"
   ]
  },
  {
   "cell_type": "code",
   "execution_count": 8,
   "metadata": {
    "collapsed": false
   },
   "outputs": [
    {
     "data": {
      "text/plain": [
       "767.3899126385163"
      ]
     },
     "execution_count": 8,
     "metadata": {},
     "output_type": "execute_result"
    }
   ],
   "source": [
    "mortgage.monthly_payment()"
   ]
  },
  {
   "cell_type": "code",
   "execution_count": 9,
   "metadata": {
    "collapsed": false
   },
   "outputs": [
    {
     "data": {
      "text/plain": [
       "7.64271135267336e-09"
      ]
     },
     "execution_count": 9,
     "metadata": {},
     "output_type": "execute_result"
    }
   ],
   "source": [
    "mortgage.remaining(12 * 30)"
   ]
  },
  {
   "cell_type": "code",
   "execution_count": 10,
   "metadata": {
    "collapsed": false
   },
   "outputs": [
    {
     "data": {
      "text/plain": [
       "172800.0"
      ]
     },
     "execution_count": 10,
     "metadata": {},
     "output_type": "execute_result"
    }
   ],
   "source": [
    "mortgage.remaining(0)"
   ]
  },
  {
   "cell_type": "markdown",
   "metadata": {},
   "source": [
    "All looking good.\n",
    "\n",
    "Now we can model the cost of buying. We need to pay:\n",
    "\n",
    "* money down for the mortgage\n",
    "* closing costs on purchase, including agent fees, inspection, etc\n",
    "* closing costs on sale\n",
    "* monthly maintenance, monthly mortgage\n",
    "* taxes (there are actually some important tax deductions you can claim against mortgage interest and PMI, but we're going to ignore those for simplicity)"
   ]
  },
  {
   "cell_type": "code",
   "execution_count": 11,
   "metadata": {
    "collapsed": false
   },
   "outputs": [],
   "source": [
    "def buy_in_general(r, months, mortgage, buy_closing_costs, sale_closing_costs, maintenance, taxes, appreciation):\n",
    "    cost_to_close = mortgage.down + (mortgage.total * buy_closing_costs)\n",
    "    \n",
    "    mortgage_cost = sum(npv(mortgage.monthly_payment(), r, t) for t in xrange(0, min(months, mortgage.payments)))\n",
    "    maintenance = sum(npv(maintenance * mortgage.total / 12, r, t) for t in xrange(0, months))\n",
    "    \n",
    "    taxes = sum(npv(taxes, r, year * 12) for year in xrange(months / 12))\n",
    "    \n",
    "    owed_bank = mortgage.remaining(months)\n",
    "    from_buyer = mortgage.total * appreciation\n",
    "    cash_at_sale = from_buyer - owed_bank - (from_buyer * sale_closing_costs)\n",
    "    \n",
    "    return -cost_to_close - mortgage_cost - maintenance - taxes + npv(cash_at_sale, r, months)"
   ]
  },
  {
   "cell_type": "markdown",
   "metadata": {},
   "source": [
    "Let's assume:\n",
    "\n",
    "* Closing costs are 1% on buying, and 6.5% on sale. Costs are dramatically higher on sale because the sale transaction is typically structured so that agent commissions are \"paid\" by the seller out of the price of the home.\n",
    "* Maintenance is 1% per year.\n",
    "* The home does not appreciate in value whatsoever during the term of the investment (which is arguably pessimistic)."
   ]
  },
  {
   "cell_type": "code",
   "execution_count": 12,
   "metadata": {
    "collapsed": false
   },
   "outputs": [],
   "source": [
    "def buy(r, months,\n",
    "        mortgage=mortgage,\n",
    "        buy_closing_costs=0.01,\n",
    "        sell_closing_costs=0.065,\n",
    "        maintenance=0.01,\n",
    "        taxes=yearly_taxes,\n",
    "        appreciation=1.0): \n",
    "    return buy_in_general(r, months,\n",
    "                          mortgage, buy_closing_costs, sell_closing_costs,\n",
    "                          maintenance, yearly_taxes, appreciation)"
   ]
  },
  {
   "cell_type": "markdown",
   "metadata": {},
   "source": [
    "Let's see how much this house will cost us, undiscounted, over several years:"
   ]
  },
  {
   "cell_type": "code",
   "execution_count": 13,
   "metadata": {
    "collapsed": false
   },
   "outputs": [
    {
     "data": {
      "text/plain": [
       "[-27518.89626350197,\n",
       " -38721.139054030995,\n",
       " -49802.686520948744,\n",
       " -60759.356770151964,\n",
       " -71586.82301179678,\n",
       " -82280.60853990016,\n",
       " -92836.0815379926,\n",
       " -103248.44970479555,\n",
       " -113512.75469368682,\n",
       " -123623.86635950336]"
      ]
     },
     "execution_count": 13,
     "metadata": {},
     "output_type": "execute_result"
    }
   ],
   "source": [
    "[buy(0, y * 12) for y in xrange(1, 11)]"
   ]
  },
  {
   "cell_type": "markdown",
   "metadata": {},
   "source": [
    "Let's compare that to renting:"
   ]
  },
  {
   "cell_type": "code",
   "execution_count": 14,
   "metadata": {
    "collapsed": false
   },
   "outputs": [
    {
     "data": {
      "text/plain": [
       "[-20615.0,\n",
       " -41830.0,\n",
       " -63645.0,\n",
       " -86060.0,\n",
       " -109075.0,\n",
       " -132690.0,\n",
       " -156905.0,\n",
       " -181720.0,\n",
       " -207135.0,\n",
       " -233150.0]"
      ]
     },
     "execution_count": 14,
     "metadata": {},
     "output_type": "execute_result"
    }
   ],
   "source": [
    "[rent(0, y * 12) for y in xrange(1, 11)]"
   ]
  },
  {
   "cell_type": "markdown",
   "metadata": {},
   "source": [
    "So, renting becomes more expensive quickly, if we assume our money has no time value. That's not a good assumption, so let's delve a little deeper.\n",
    "\n",
    "## IRR\n",
    "\n",
    "IRR is a common concept when evaluating investments. The IRR essentially states the smallest time value your money needs to have for you to lose money on your investment. In other words, you want to know the rate that causes your discounted cash flow to become negative."
   ]
  },
  {
   "cell_type": "code",
   "execution_count": 15,
   "metadata": {
    "collapsed": false
   },
   "outputs": [],
   "source": [
    "def irr(dcf):\n",
    "    if dcf(0) < 0: return\n",
    "    for ix in xrange(1000):\n",
    "        r_t = float(ix) / 1000\n",
    "        if dcf(r_t) < 0:\n",
    "            return r_t"
   ]
  },
  {
   "cell_type": "markdown",
   "metadata": {},
   "source": [
    "Note that there are cases where there is **no** IRR. Your investment loses money, even assuming your upfront dollars are valued equally to later hypothetical dollars. It cannot grow your wealth.\n",
    "\n",
    "There will be cases where this happens with our house investment.\n",
    "\n",
    "We can model this \"investment\" by subtracting the rent we're not paying from the other costs that we now must pay. Now, (drumroll please), let's look at the IRR for our hypothetical house, depending on how long we stay in it:"
   ]
  },
  {
   "cell_type": "code",
   "execution_count": 16,
   "metadata": {
    "collapsed": false,
    "scrolled": true
   },
   "outputs": [
    {
     "name": "stdout",
     "output_type": "stream",
     "text": [
      "1 None\n",
      "2 0.039\n",
      "3 0.109\n",
      "4 0.142\n",
      "5 0.161\n",
      "6 0.173\n",
      "7 0.18\n",
      "8 0.185\n",
      "9 0.189\n",
      "10 0.192\n",
      "11 0.193\n",
      "12 0.195\n",
      "13 0.196\n",
      "14 0.196\n",
      "15 0.197\n"
     ]
    }
   ],
   "source": [
    "for year in xrange(1, 16):\n",
    "    def dcf(r_i): return buy(r_i / 12, 12 * year) - rent(r_i / 12, 12 * year)\n",
    "    print year, irr(dcf)"
   ]
  },
  {
   "cell_type": "markdown",
   "metadata": {},
   "source": [
    "Not bad. We're well above the paltry [1.3%](http://www.bankrate.com/rates/interest-rates/treasury.aspx) current risk free rate in year three. By year four, our return rises above the [10%](http://www.investopedia.com/ask/answers/042415/what-average-annual-return-sp-500.asp) average annual returns for the S&P 500.\n",
    "\n",
    "There's obviously a couple caveats. First, all of this analysis is predicated on the house being a principle residence. There are many benefits, especially regarding capital gains, that flow from the government in this case. Investment properties are a whole 'nother ball of wax.\n",
    "\n",
    "Finally, let's keep in mind that this investment scenario has one big caveat: we disappear into thin air after we sell the house, and never spend money on housing again. We'll return to that assumption later.\n",
    "\n",
    "## Bring on the Bears\n",
    "\n",
    "Of course, market conditions can change drastically and quickly. What does our investment look like in a super-pessimistic case, where our house loses half its value?"
   ]
  },
  {
   "cell_type": "code",
   "execution_count": 17,
   "metadata": {
    "collapsed": false
   },
   "outputs": [],
   "source": [
    "def buy_ohno(r, months):\n",
    "    return buy(r, months, appreciation=0.5)"
   ]
  },
  {
   "cell_type": "code",
   "execution_count": 18,
   "metadata": {
    "collapsed": false
   },
   "outputs": [
    {
     "name": "stdout",
     "output_type": "stream",
     "text": [
      "1 None\n",
      "2 None\n",
      "3 None\n",
      "4 None\n",
      "5 None\n",
      "6 None\n",
      "7 None\n",
      "8 None\n",
      "9 None\n",
      "10 0.059\n",
      "11 0.109\n",
      "12 0.135\n",
      "13 0.152\n",
      "14 0.164\n",
      "15 0.172\n",
      "16 0.178\n",
      "17 0.182\n",
      "18 0.186\n",
      "19 0.188\n",
      "20 0.19\n"
     ]
    }
   ],
   "source": [
    "for year in xrange(1, 21):\n",
    "    def dcf(r_i): return buy_ohno(r_i / 12, 12 * year) - rent(r_i / 12, 12 * year)\n",
    "    print year, irr(dcf)"
   ]
  },
  {
   "cell_type": "markdown",
   "metadata": {},
   "source": [
    "Pretty grim, but still no doomsday. We'll need to stay in the house for a long time to beat the stock market if we get caught in a bad market cycle.\n",
    "\n",
    "## The Long View\n",
    "\n",
    "We've established that the longer you stay in the house, the better off you are. Let's look at what happens after your mortgage is payed off, and if your house reliably appreciates to keep up with a 2% inflation rate over the years."
   ]
  },
  {
   "cell_type": "code",
   "execution_count": 19,
   "metadata": {
    "collapsed": false
   },
   "outputs": [
    {
     "name": "stdout",
     "output_type": "stream",
     "text": [
      "1 None\n",
      "6 0.216\n",
      "11 0.214\n",
      "16 0.207\n",
      "21 0.203\n",
      "26 0.2\n"
     ]
    }
   ],
   "source": [
    "for year in xrange(1, 31, 5):\n",
    "    def buy_and_appreciate(r, months): \n",
    "        return buy(r, months, appreciation=1.02 ** year)\n",
    "    def dcf(r_i): return buy_and_appreciate(r_i / 12, 12 * year) - rent(r_i / 12, 12 * year)\n",
    "    print year, irr(dcf)"
   ]
  },
  {
   "cell_type": "markdown",
   "metadata": {},
   "source": [
    "What? Our rate of return gets **worse** the longer we wait to sell?\n",
    "\n",
    "Because the house appreciates less quickly than our return rate, it makes sense to sell it ASAP. We're forgetting that we actually have to live somewhere if we don't own a house.  Let's do a more realistic comparison: whenever we sell our house, we'll buy another similar house somewhere else. So we'll be taking out a series of mortgages with the following guidelines:\n",
    "\n",
    "* We want to retire someday, so we structure our payments to zero the mortgage after thirty years no matter what.\n",
    "* We plow all of our equity from before into the new mortgage, minus closing costs.\n",
    "* If we don't have enough equity to cover closing costs, we assume we can pony up the difference."
   ]
  },
  {
   "cell_type": "code",
   "execution_count": 20,
   "metadata": {
    "collapsed": false
   },
   "outputs": [],
   "source": [
    "total_months = 50 * 12 \n",
    "mortgage_months = 30 * 12\n",
    "appreciation = 0.02\n",
    "\n",
    "def mortgages(swap_months, appreciation):\n",
    "    prior_mortgage = None\n",
    "    swaps = [m for m in xrange(swap_months, total_months, swap_months)]\n",
    "    \n",
    "    for month in [0] + swaps:\n",
    "        new_term = mortgage_months - month\n",
    "        if new_term > 0:\n",
    "            new_price = price * (1 + appreciation) ** month\n",
    "            new_down = new_price * 0.20\n",
    "            if not prior_mortgage:\n",
    "                equity = down\n",
    "            else:\n",
    "                equity = new_price - prior_mortgage.remaining(swap_months) - 0.075 * new_price\n",
    "\n",
    "            prior_mortgage = Mortgage(max(equity, new_down), new_price, new_term, apr / 12)\n",
    "            yield month, prior_mortgage"
   ]
  },
  {
   "cell_type": "markdown",
   "metadata": {},
   "source": [
    "Let's look at how our equity changes in the first years:"
   ]
  },
  {
   "cell_type": "code",
   "execution_count": 21,
   "metadata": {
    "collapsed": false
   },
   "outputs": [
    {
     "name": "stdout",
     "output_type": "stream",
     "text": [
      "1 [46566.78268816022, 47696.32722958573, 48867.46325427029, 50083.41586767594, 51347.8655691084]\n",
      "2 [50050.21884929339, 52908.73235120109, 56058.59938981806, 59561.54823595419, 63501.08063338252]\n",
      "5 [61241.57174651415, 89902.21983048532, 127260.19030345339, 177214.64565176948, 247025.85305243937]\n",
      "10 [82632.92315711873, 174287.08247778635, 322126.8603694791]\n",
      "25 [173724.0250192302, 355975.6050638522]\n",
      "50 [216000.0]\n"
     ]
    }
   ],
   "source": [
    "for year in (1, 2, 5, 10, 25, 50):\n",
    "    print year, list(m.total - m.remaining(year * 12) for _, m in mortgages(year * 12, appreciation / 12))[:5]"
   ]
  },
  {
   "cell_type": "markdown",
   "metadata": {},
   "source": [
    "Yikes, we're barely building any equity at all when we only switch every 1-2 years. We're probably ponying up a ton of closing costs too. Now let's look at what our final monthly payments look like:"
   ]
  },
  {
   "cell_type": "code",
   "execution_count": 22,
   "metadata": {
    "collapsed": false
   },
   "outputs": [
    {
     "name": "stdout",
     "output_type": "stream",
     "text": [
      "1 [4331.454440777877, 4939.288618283636, 5752.405639125483, 6975.983313653811, 9430.730631788698]\n",
      "2 [2081.1559470156953, 2380.8092512348812, 2783.2571197636807, 3391.0912972694505, 4614.668971797793]\n",
      "5 [856.1607031760279, 969.9939340948902, 1125.3296002131922, 1363.2271158811006, 1847.8500404778238]\n",
      "10 [767.3899126385163, 881.2231435573807, 1119.1206592252965]\n",
      "25 [767.3899126385163, 1252.0128372353004]\n",
      "50 [767.3899126385163]\n"
     ]
    }
   ],
   "source": [
    "for year in (1, 2, 5, 10, 25, 50):\n",
    "    print year, list(m.monthly_payment() for _, m in mortgages(year * 12, appreciation / 12))[-5:]"
   ]
  },
  {
   "cell_type": "markdown",
   "metadata": {},
   "source": [
    "Wow, those one and two year scenarios look pretty grisly. We have to really pay to catch our equity back up. Even the final payments for five-year switching don't look too great, but they're still manageable.\n",
    "\n",
    "The math is basically reinforcing common sense. It makes very little finanacial sense to constantly house swap. Let's look at the rate of return for the sensible swapping intervals:"
   ]
  },
  {
   "cell_type": "code",
   "execution_count": 23,
   "metadata": {
    "collapsed": false
   },
   "outputs": [
    {
     "name": "stdout",
     "output_type": "stream",
     "text": [
      "5 0.128\n",
      "10 0.162\n",
      "25 0.193\n",
      "50 0.197\n"
     ]
    }
   ],
   "source": [
    "for year in (5, 10, 25, 50):\n",
    "    swap_months = year * 12\n",
    "    \n",
    "    def buy_and_appreciate(r, term, mortgage): \n",
    "        return buy(r, term, mortgage=mortgage, appreciation=1.0)\n",
    "    \n",
    "    def dcf_swapping_houses(r):\n",
    "        mortgage_list = list(mortgages(swap_months, appreciation / 12))\n",
    "        buy_costs = [npv(buy_and_appreciate(r / 12, swap_months, m), r / 12, month)\n",
    "                     for month, m in mortgage_list[:-1]]\n",
    "        \n",
    "        final_month, final_mortgage = mortgage_list[-1]\n",
    "        mortgage_remaining = 30 * 12 - swap_months\n",
    "        months_to_final = final_month\n",
    "        months_remaining = total_months - months_to_final\n",
    "        final_cost = npv(buy_and_appreciate(r / 12, months_remaining, final_mortgage), r / 12, months_to_final)\n",
    "        \n",
    "        return sum(buy_costs) + final_cost - rent(r / 12, total_months)\n",
    "\n",
    "    print year, irr(dcf_swapping_houses)"
   ]
  },
  {
   "cell_type": "markdown",
   "metadata": {},
   "source": [
    "Not bad. If we're willing to put up with some pretty high catch-up payments at the end of our 30-year term, we easily beat the stock market. Even if we switch houses every five years.\n",
    "\n",
    "If we're planning on staying put for a very long time, a house looks like it could be a fantastic investment.\n",
    "\n",
    "Another thing to keep in mind: with this time horizon, the final sale price of the house itself is practically inconsequential. Here's the present value of the cash we'll get on sale, discounted at 10% per year:"
   ]
  },
  {
   "cell_type": "code",
   "execution_count": 24,
   "metadata": {
    "collapsed": false
   },
   "outputs": [
    {
     "data": {
      "text/plain": [
       "3999.334945518201"
      ]
     },
     "execution_count": 24,
     "metadata": {},
     "output_type": "execute_result"
    }
   ],
   "source": [
    "npv(price * (1 + appreciation) ** 50, 0.1 / 12, 50 * 12)"
   ]
  },
  {
   "cell_type": "markdown",
   "metadata": {},
   "source": [
    "This is a tiny fraction of the total NPV of our housing costs:"
   ]
  },
  {
   "cell_type": "code",
   "execution_count": 25,
   "metadata": {
    "collapsed": false
   },
   "outputs": [
    {
     "data": {
      "text/plain": [
       "-188527.62346588002"
      ]
     },
     "execution_count": 25,
     "metadata": {},
     "output_type": "execute_result"
    }
   ],
   "source": [
    "buy(0.1 / 12, 50 * 12)"
   ]
  },
  {
   "cell_type": "markdown",
   "metadata": {},
   "source": [
    "The 50-year time frame is pretty extreme. Many things can change. That's one of the reasons we give money time preference in the first place."
   ]
  },
  {
   "cell_type": "markdown",
   "metadata": {},
   "source": [
    "## TL;DR\n",
    "\n",
    "So is housing a shitty investment? It certainly can be, especially if you change houses every year. But if you're in a specific location for the long haul, investment in housing for your principle residence will probably beat market returns.\n",
    "\n",
    "Another final note: the current lending environment is **very** favorable towards buying a house. Interest rates are at all time lows. All the analysis here will certainly need to change in the future."
   ]
  }
 ],
 "metadata": {
  "kernelspec": {
   "display_name": "Python 2",
   "language": "python",
   "name": "python2"
  },
  "language_info": {
   "codemirror_mode": {
    "name": "ipython",
    "version": 2
   },
   "file_extension": ".py",
   "mimetype": "text/x-python",
   "name": "python",
   "nbconvert_exporter": "python",
   "pygments_lexer": "ipython2",
   "version": "2.7.6"
  }
 },
 "nbformat": 4,
 "nbformat_minor": 0
}
