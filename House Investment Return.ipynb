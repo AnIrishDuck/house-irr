{
 "cells": [
  {
   "cell_type": "markdown",
   "metadata": {},
   "source": [
    "## Starting Assumptions"
   ]
  },
  {
   "cell_type": "markdown",
   "metadata": {},
   "source": [
    "We're going to model the cost of one specific home, and compare it to an equivalent rent. [The house is here](http://www.zillow.com/homes/for_sale/fsba_lt/24704738_zpid/12m_days/42.274213,-83.749015,42.251822,-83.794935_rect/14_zm/0_mmm/). I live in this area, and represent that the asking price, Zillow rent estimate, and financing terms are all reasonable.\n",
    "\n",
    "So here's some rent estimates:"
   ]
  },
  {
   "cell_type": "code",
   "execution_count": 1,
   "metadata": {
    "collapsed": true
   },
   "outputs": [],
   "source": [
    "rent_per_month = 1650\n",
    "rent_increase_per_month = 50.0 / 12"
   ]
  },
  {
   "cell_type": "markdown",
   "metadata": {},
   "source": [
    "Zillow has also helpfully calculated the 30-year fixed mortgage terms:"
   ]
  },
  {
   "cell_type": "code",
   "execution_count": 2,
   "metadata": {
    "collapsed": true
   },
   "outputs": [],
   "source": [
    "price = 232000\n",
    "down = 46400\n",
    "apr = 0.03286\n",
    "term = 12 * 30\n",
    "yearly_taxes = 3317"
   ]
  },
  {
   "cell_type": "markdown",
   "metadata": {},
   "source": [
    "## MATH TIME"
   ]
  },
  {
   "cell_type": "markdown",
   "metadata": {},
   "source": [
    "First, the fundamental law of finance. Net present value of any sum of money:"
   ]
  },
  {
   "cell_type": "code",
   "execution_count": 3,
   "metadata": {
    "collapsed": true
   },
   "outputs": [],
   "source": [
    "def npv(future_value, discount_rate, t):\n",
    "    return future_value / (1 + discount_rate) ** t"
   ]
  },
  {
   "cell_type": "markdown",
   "metadata": {},
   "source": [
    "Calculating the net present value of all rental costs is fairly simple. Assume we're paying one month's rent as a deposit, and discount each month's rent:"
   ]
  },
  {
   "cell_type": "code",
   "execution_count": 4,
   "metadata": {
    "collapsed": true
   },
   "outputs": [],
   "source": [
    "def rent(months, r):\n",
    "    def cost_of_month(t):\n",
    "        return rent_per_month + (rent_increase_per_month * t)\n",
    "    deposit = rent_per_month\n",
    "    deposit_back = npv(deposit, r, months)\n",
    "    return -deposit + sum(-npv(cost_of_month(t), r, t) for t in xrange(0, months)) + deposit_back"
   ]
  },
  {
   "cell_type": "markdown",
   "metadata": {},
   "source": [
    "So, after 10 years, we will pay:"
   ]
  },
  {
   "cell_type": "code",
   "execution_count": 5,
   "metadata": {
    "collapsed": false
   },
   "outputs": [
    {
     "data": {
      "text/plain": [
       "-227750.0"
      ]
     },
     "execution_count": 5,
     "metadata": {},
     "output_type": "execute_result"
    }
   ],
   "source": [
    "rent(12 * 10, 0)"
   ]
  },
  {
   "cell_type": "markdown",
   "metadata": {},
   "source": [
    "228k, undiscounted. Sounds about right.\n",
    "\n",
    "Calculating the cost of buying is obviously more involved. Let's start with some basic mortgage definitions:"
   ]
  },
  {
   "cell_type": "code",
   "execution_count": 6,
   "metadata": {
    "collapsed": false
   },
   "outputs": [],
   "source": [
    "class Mortgage:\n",
    "    def __init__(self, down, total, payments, rate):\n",
    "        self.down, self.total, self.payments, self.rate = down, total, payments, rate\n",
    "        \n",
    "    def monthly_payment(self):\n",
    "        r = self.rate\n",
    "        P = self.total - self.down\n",
    "        N = self.payments\n",
    "        # From https://en.wikipedia.org/wiki/Mortgage_calculator#Monthly_payment_formula\n",
    "        return (r * P)  / (1 - (1 + r) ** -N)\n",
    "        \n",
    "    def remaining(self, t):\n",
    "        balance = self.total - self.down\n",
    "        for _ in xrange(0, t):\n",
    "            interest = balance * self.rate\n",
    "            balance -= (self.monthly_payment() - interest)\n",
    "        return max(0, balance)"
   ]
  },
  {
   "cell_type": "markdown",
   "metadata": {},
   "source": [
    "And plug in the terms Zillow gave us:"
   ]
  },
  {
   "cell_type": "code",
   "execution_count": 7,
   "metadata": {
    "collapsed": false
   },
   "outputs": [],
   "source": [
    "mortgage = Mortgage(down, price, term, apr / 12)"
   ]
  },
  {
   "cell_type": "markdown",
   "metadata": {},
   "source": [
    "Now let's do some basic sanity checking:"
   ]
  },
  {
   "cell_type": "code",
   "execution_count": 8,
   "metadata": {
    "collapsed": false
   },
   "outputs": [
    {
     "data": {
      "text/plain": [
       "811.4145714967989"
      ]
     },
     "execution_count": 8,
     "metadata": {},
     "output_type": "execute_result"
    }
   ],
   "source": [
    "mortgage.monthly_payment()"
   ]
  },
  {
   "cell_type": "code",
   "execution_count": 9,
   "metadata": {
    "collapsed": false
   },
   "outputs": [
    {
     "data": {
      "text/plain": [
       "0"
      ]
     },
     "execution_count": 9,
     "metadata": {},
     "output_type": "execute_result"
    }
   ],
   "source": [
    "mortgage.remaining(12 * 30)"
   ]
  },
  {
   "cell_type": "code",
   "execution_count": 10,
   "metadata": {
    "collapsed": false
   },
   "outputs": [
    {
     "data": {
      "text/plain": [
       "185600"
      ]
     },
     "execution_count": 10,
     "metadata": {},
     "output_type": "execute_result"
    }
   ],
   "source": [
    "mortgage.remaining(0)"
   ]
  },
  {
   "cell_type": "markdown",
   "metadata": {},
   "source": [
    "All looking good.\n",
    "\n",
    "Now we can model the cost of buying. We need to pay:\n",
    "\n",
    "* money down for the mortgage\n",
    "* closing costs on purchase, including agent fees, inspection, etc\n",
    "* closing costs on sale\n",
    "* monthly maintenance, monthly mortgage\n",
    "* taxes (there are actually some important tax deductions you can claim against mortgage interest and PMI, but we're going to ignore those for simplicity)"
   ]
  },
  {
   "cell_type": "code",
   "execution_count": 11,
   "metadata": {
    "collapsed": false
   },
   "outputs": [],
   "source": [
    "def buy_in_general(mortgage, buy_closing_costs, sale_closing_costs, maintenance, taxes, months, appreciation, r):\n",
    "    cost_to_close = mortgage.down + (mortgage.total * buy_closing_costs)\n",
    "    \n",
    "    monthly_maintenance = maintenance * mortgage.total / 12\n",
    "    monthly = sum(npv(mortgage.monthly_payment() + monthly_maintenance, r, t) for t in xrange(0, months))\n",
    "    \n",
    "    taxes = sum(npv(taxes, r, year * 12) for year in xrange(months / 12))\n",
    "    \n",
    "    owed_bank = mortgage.remaining(months)\n",
    "    from_buyer = mortgage.total * appreciation\n",
    "    cash_at_sale = from_buyer - owed_bank - (from_buyer * sale_closing_costs)\n",
    "    \n",
    "    return -cost_to_close - monthly - taxes + npv(cash_at_sale, r, months)"
   ]
  },
  {
   "cell_type": "markdown",
   "metadata": {},
   "source": [
    "Let's assume:\n",
    "\n",
    "* Closing costs are 2% on buying, and 6.5% on sale. Costs are dramatically higher on sale because agent commissions are \"paid\" by the seller. \n",
    "* Maintenance is 1% per year.\n",
    "* The home does not appreciate in value whatsoever during the term of the investment (which is arguably pessimistic).\n",
    "\n",
    "This last assumption is by far the most important. It will drastically affect our IRR. We'll get back to that later."
   ]
  },
  {
   "cell_type": "code",
   "execution_count": 12,
   "metadata": {
    "collapsed": true
   },
   "outputs": [],
   "source": [
    "def buy(months, r): \n",
    "    return buy_in_general(mortgage, 0.02, 0.065, 0.01, yearly_taxes, months, 1.0, r)"
   ]
  },
  {
   "cell_type": "markdown",
   "metadata": {},
   "source": [
    "Let's see how much this house will cost us, undiscounted, over several years:"
   ]
  },
  {
   "cell_type": "code",
   "execution_count": 13,
   "metadata": {
    "collapsed": false
   },
   "outputs": [
    {
     "data": {
      "text/plain": [
       "[-31400.519055983226,\n",
       " -42957.826478991454,\n",
       " -54387.811997421464,\n",
       " -65686.22822329373,\n",
       " -76848.68607812605,\n",
       " -87870.65006621715,\n",
       " -98747.43339024982,\n",
       " -109474.19290395285,\n",
       " -120045.92389638702,\n",
       " -130457.45470223745]"
      ]
     },
     "execution_count": 13,
     "metadata": {},
     "output_type": "execute_result"
    }
   ],
   "source": [
    "[buy(y * 12, 0) for y in xrange(1, 11)]"
   ]
  },
  {
   "cell_type": "markdown",
   "metadata": {},
   "source": [
    "Let's compare that to renting:"
   ]
  },
  {
   "cell_type": "code",
   "execution_count": 14,
   "metadata": {
    "collapsed": false
   },
   "outputs": [
    {
     "data": {
      "text/plain": [
       "[-20075.0,\n",
       " -40750.0,\n",
       " -62025.0,\n",
       " -83900.0,\n",
       " -106375.0,\n",
       " -129450.0,\n",
       " -153125.0,\n",
       " -177400.0,\n",
       " -202275.0,\n",
       " -227750.0]"
      ]
     },
     "execution_count": 14,
     "metadata": {},
     "output_type": "execute_result"
    }
   ],
   "source": [
    "[rent(y * 12, 0) for y in xrange(1, 11)]"
   ]
  },
  {
   "cell_type": "markdown",
   "metadata": {},
   "source": [
    "So, renting becomes more expensive quickly, if we assume our money has no time value. That's not a good assumption, so let's delve a little deeper.\n",
    "\n",
    "## IRR\n",
    "\n",
    "IRR is a common concept when evaluating investments. The IRR essentially states the smallest time value your money needs to have for you to lose money on your investment. In other words, you want to know the rate that causes your discounted cash flow to become negative."
   ]
  },
  {
   "cell_type": "code",
   "execution_count": 15,
   "metadata": {
    "collapsed": false
   },
   "outputs": [],
   "source": [
    "def irr(dcf):\n",
    "    if dcf(0) < 0: return\n",
    "    for ix in xrange(1000):\n",
    "        r_t = float(ix) / 1000\n",
    "        if dcf(r_t) < 0:\n",
    "            return r_t"
   ]
  },
  {
   "cell_type": "markdown",
   "metadata": {},
   "source": [
    "Note that there are cases where there is **no** IRR. Your investment loses money, even assuming your upfront dollars are valued equally to later hypothetical dollars. It cannot grow your wealth.\n",
    "\n",
    "There will be cases where this happens with our house investment.\n",
    "\n",
    "We can model this \"investment\" by subtracting the rent we're not paying from the other costs that we now must pay. Now, (drumroll please), let's look at the IRR for our hypothetical house, depending on how long we stay in it:"
   ]
  },
  {
   "cell_type": "code",
   "execution_count": 16,
   "metadata": {
    "collapsed": false
   },
   "outputs": [
    {
     "name": "stdout",
     "output_type": "stream",
     "text": [
      "1 None\n",
      "2 None\n",
      "3 0.055\n",
      "4 0.093\n",
      "5 0.115\n",
      "6 0.129\n",
      "7 0.138\n",
      "8 0.145\n",
      "9 0.149\n",
      "10 0.153\n",
      "11 0.155\n",
      "12 0.157\n",
      "13 0.159\n",
      "14 0.16\n",
      "15 0.161\n"
     ]
    }
   ],
   "source": [
    "for year in xrange(1, 16):\n",
    "    def dcf(r_i): return buy(12 * year, r_i / 12) - rent(12 * year, r_i / 12)\n",
    "    print year, irr(dcf)"
   ]
  },
  {
   "cell_type": "markdown",
   "metadata": {},
   "source": [
    "Not bad. We're well above the risk free rate in year three, and above expected real returns in most other volatile assets soon after that.\n",
    "\n",
    "There's obviously a couple caveats. First, all of this analysis is predicated on the house being a principle residence. There are many benefits, especially regarding capital gains, that flow from the government in this case. Investment properties are a whole 'nother ball of wax.\n",
    "\n",
    "And finally, let's return to the most important factor. Houses can drastically change in value.\n",
    "\n",
    "## RUH ROH\n",
    "\n",
    "Everyone who owned a house before the 2008 crash can testify that house values are not stable. So let's look at the worst case, and assume that our house halves in value (this isn't the absolute worst case, but it's far worse than the ~25% median dip in value after 2008 [recorded by zillow](http://www.zillow.com/home-values/)):"
   ]
  },
  {
   "cell_type": "code",
   "execution_count": 17,
   "metadata": {
    "collapsed": true
   },
   "outputs": [],
   "source": [
    "def buy_ohno(months, r):\n",
    "    return buy_in_general(mortgage, 0.02, 0.065, 0.01, yearly_taxes, months, 0.5, r)"
   ]
  },
  {
   "cell_type": "code",
   "execution_count": 18,
   "metadata": {
    "collapsed": false
   },
   "outputs": [
    {
     "name": "stdout",
     "output_type": "stream",
     "text": [
      "1 None\n",
      "2 None\n",
      "3 None\n",
      "4 None\n",
      "5 None\n",
      "6 None\n",
      "7 None\n",
      "8 None\n",
      "9 None\n",
      "10 None\n",
      "11 0.024\n",
      "12 0.07\n",
      "13 0.096\n",
      "14 0.113\n",
      "15 0.125\n",
      "16 0.133\n",
      "17 0.14\n",
      "18 0.144\n",
      "19 0.148\n",
      "20 0.151\n"
     ]
    }
   ],
   "source": [
    "for year in xrange(1, 21):\n",
    "    def dcf(r_i): return buy_ohno(12 * year, r_i / 12) - rent(12 * year, r_i / 12)\n",
    "    print year, irr(dcf)"
   ]
  },
  {
   "cell_type": "markdown",
   "metadata": {},
   "source": [
    "Pretty grim, but still not a doomsday. You'll need to stay in the house for a long time to beat the market if you got caught in a bad market cycle."
   ]
  }
 ],
 "metadata": {
  "kernelspec": {
   "display_name": "Python 2",
   "language": "python",
   "name": "python2"
  },
  "language_info": {
   "codemirror_mode": {
    "name": "ipython",
    "version": 2
   },
   "file_extension": ".py",
   "mimetype": "text/x-python",
   "name": "python",
   "nbconvert_exporter": "python",
   "pygments_lexer": "ipython2",
   "version": "2.7.10"
  }
 },
 "nbformat": 4,
 "nbformat_minor": 0
}
